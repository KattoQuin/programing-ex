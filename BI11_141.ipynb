{
  "nbformat": 4,
  "nbformat_minor": 0,
  "metadata": {
    "colab": {
      "name": "BI11-141.ipynb",
      "provenance": [],
      "collapsed_sections": []
    },
    "kernelspec": {
      "name": "python3",
      "display_name": "Python 3"
    }
  },
  "cells": [
    {
      "cell_type": "code",
      "metadata": {
        "id": "32HhITFYiFS4"
      },
      "source": [
        ""
      ],
      "execution_count": null,
      "outputs": []
    },
    {
      "cell_type": "markdown",
      "metadata": {
        "id": "UKWoBdpBiPMc"
      },
      "source": [
        "# Ex1"
      ]
    },
    {
      "cell_type": "code",
      "metadata": {
        "colab": {
          "base_uri": "https://localhost:8080/"
        },
        "id": "N7Ud4Yu_iQ3C",
        "outputId": "718cf76f-b2ee-4d55-de1b-d33d6fb1ffab"
      },
      "source": [
        "x = int(input())\r\n",
        "t = x\r\n",
        "for i in range(1, t):\r\n",
        "  print(x, end =\", \")\r\n",
        "  x=x-1\r\n",
        "print(1)"
      ],
      "execution_count": null,
      "outputs": [
        {
          "output_type": "stream",
          "text": [
            "12\n",
            "12, 11, 10, 9, 8, 7, 6, 5, 4, 3, 2, 1\n"
          ],
          "name": "stdout"
        }
      ]
    },
    {
      "cell_type": "code",
      "metadata": {
        "colab": {
          "base_uri": "https://localhost:8080/"
        },
        "id": "zXgE-ZjSkg7h",
        "outputId": "b0b50d89-0c26-43bb-c166-d8479ef2c6de"
      },
      "source": [
        "x = int(input())\r\n",
        "t = x\r\n",
        "i=1\r\n",
        "while i <= t:\r\n",
        "  print(x)\r\n",
        "  x=x-1\r\n",
        "  i=i+1"
      ],
      "execution_count": null,
      "outputs": [
        {
          "output_type": "stream",
          "text": [
            "9\n",
            "9\n",
            "8\n",
            "7\n",
            "6\n",
            "5\n",
            "4\n",
            "3\n",
            "2\n",
            "1\n"
          ],
          "name": "stdout"
        }
      ]
    },
    {
      "cell_type": "markdown",
      "metadata": {
        "id": "Q_ZFyWLDlR7f"
      },
      "source": [
        "# Ex2"
      ]
    },
    {
      "cell_type": "code",
      "metadata": {
        "colab": {
          "base_uri": "https://localhost:8080/"
        },
        "id": "du4ot3YqlWV2",
        "outputId": "b9599a08-d1f8-48c0-9e0c-19b45bdf343b"
      },
      "source": [
        "n = int(input())\r\n",
        "for i in range(0, n):\r\n",
        "  if i/2 == int(i/2):\r\n",
        "    print(i)\r\n"
      ],
      "execution_count": null,
      "outputs": [
        {
          "output_type": "stream",
          "text": [
            "7\n",
            "0\n",
            "2\n",
            "4\n",
            "6\n"
          ],
          "name": "stdout"
        }
      ]
    },
    {
      "cell_type": "markdown",
      "metadata": {
        "id": "iHaC2-gPnCkq"
      },
      "source": [
        "# Ex3"
      ]
    },
    {
      "cell_type": "code",
      "metadata": {
        "colab": {
          "base_uri": "https://localhost:8080/"
        },
        "id": "9w7HuDf_nEMo",
        "outputId": "3435904d-01b7-45fa-ae2b-69ec88366918"
      },
      "source": [
        "n = int(input())\r\n",
        "a=1\r\n",
        "for i in range(1, n+1):\r\n",
        "  a=a*i\r\n",
        "print(a)"
      ],
      "execution_count": null,
      "outputs": [
        {
          "output_type": "stream",
          "text": [
            "3\n",
            "6\n"
          ],
          "name": "stdout"
        }
      ]
    },
    {
      "cell_type": "markdown",
      "metadata": {
        "id": "QZBqmcFMngco"
      },
      "source": [
        "# Ex4"
      ]
    },
    {
      "cell_type": "code",
      "metadata": {
        "colab": {
          "base_uri": "https://localhost:8080/"
        },
        "id": "HGWggPW0nh6n",
        "outputId": "5dff3ee1-41c7-4410-ce97-9e4a702ad1cc"
      },
      "source": [
        "A = int(input())\r\n",
        "if  5<=A and A<=10:\r\n",
        "  print(\"True\")\r\n",
        "else:\r\n",
        "  print(\"False\")"
      ],
      "execution_count": null,
      "outputs": [
        {
          "output_type": "stream",
          "text": [
            "2\n",
            "False\n"
          ],
          "name": "stdout"
        }
      ]
    },
    {
      "cell_type": "code",
      "metadata": {
        "id": "KPK8LfFkoDDg"
      },
      "source": [
        ""
      ],
      "execution_count": null,
      "outputs": []
    },
    {
      "cell_type": "markdown",
      "metadata": {
        "id": "RPzo5LECn-3Q"
      },
      "source": [
        "# Ex5"
      ]
    },
    {
      "cell_type": "markdown",
      "metadata": {
        "id": "i4wt2EJ4oEaB"
      },
      "source": [
        ""
      ]
    },
    {
      "cell_type": "code",
      "metadata": {
        "colab": {
          "base_uri": "https://localhost:8080/"
        },
        "id": "38QWoAyfoE8Q",
        "outputId": "a1f70a76-cfe6-4dd3-b655-90a8bf2b7caf"
      },
      "source": [
        "n = int(input())\r\n",
        "a=1\r\n",
        "for i in range(1, n+1):\r\n",
        "  a=n*i\r\n",
        "  print(n,\"x\",i,\"=\",a)"
      ],
      "execution_count": null,
      "outputs": [
        {
          "output_type": "stream",
          "text": [
            "-10\n"
          ],
          "name": "stdout"
        }
      ]
    },
    {
      "cell_type": "markdown",
      "metadata": {
        "id": "59RfOADWqqZa"
      },
      "source": [
        "# Ex6"
      ]
    },
    {
      "cell_type": "code",
      "metadata": {
        "id": "HLs8GJ3LqsEK"
      },
      "source": [
        "a=int(input())\r\n",
        "b=int(input())\r\n",
        "c=int(input())\r\n",
        "if a==b and b==c:\r\n",
        "  print(\"Equilateral\")\r\n",
        "elif a+b>c and a+c>b and c+b>a and abs(a-b)<c and abs(a-c)<b and abs(b-c)<a:\r\n",
        "  if a==b or b==c or b==c:\r\n",
        "    print(\"Isosceles\")\r\n",
        "  elif a*a+b*b==c*c or a*a==b*b+c*c or a*a+c*c==b*b:\r\n",
        "    print(\"Square\")\r\n",
        "  else: \r\n",
        "    print(\"Normal\")"
      ],
      "execution_count": null,
      "outputs": []
    },
    {
      "cell_type": "markdown",
      "metadata": {
        "id": "aYvsvTE5tRRi"
      },
      "source": [
        "# Ex7"
      ]
    },
    {
      "cell_type": "code",
      "metadata": {
        "colab": {
          "base_uri": "https://localhost:8080/"
        },
        "id": "Urn_UhwutTbB",
        "outputId": "248d8c0a-c346-489a-ebe6-3e481ac1fbd3"
      },
      "source": [
        "a=int(input())\r\n",
        "b=int(input())\r\n",
        "c=int(input())\r\n",
        "if a>b and b>c:\r\n",
        "  print(a)\r\n",
        "elif c>b and b>a:\r\n",
        "  print(c)\r\n",
        "else:\r\n",
        "  print(a)\r\n"
      ],
      "execution_count": null,
      "outputs": [
        {
          "output_type": "stream",
          "text": [
            "7\n",
            "3\n",
            "4\n",
            "7\n"
          ],
          "name": "stdout"
        }
      ]
    },
    {
      "cell_type": "markdown",
      "metadata": {
        "id": "CuwhNLiaw1R7"
      },
      "source": [
        "# Ex8"
      ]
    },
    {
      "cell_type": "code",
      "metadata": {
        "colab": {
          "base_uri": "https://localhost:8080/"
        },
        "id": "6gr4Nakxw5Bf",
        "outputId": "c0008cbc-7e30-411f-d315-89a830ecda98"
      },
      "source": [
        "a=int(input())\r\n",
        "b=int(input())\r\n",
        "if a==b:\r\n",
        "  print(\"They are equal\")\r\n",
        "elif a<b:\r\n",
        "  for i in range(a, b+1):\r\n",
        "    print(i)\r\n",
        "else:\r\n",
        "  for i in range(b, a+1):\r\n",
        "    print(i)"
      ],
      "execution_count": null,
      "outputs": [
        {
          "output_type": "stream",
          "text": [
            "7\n",
            "4\n",
            "4\n",
            "5\n",
            "6\n",
            "7\n"
          ],
          "name": "stdout"
        }
      ]
    },
    {
      "cell_type": "markdown",
      "metadata": {
        "id": "klf0XuYgx4Cz"
      },
      "source": [
        "# Ex9\r\n"
      ]
    },
    {
      "cell_type": "code",
      "metadata": {
        "colab": {
          "base_uri": "https://localhost:8080/"
        },
        "id": "0DA4sy97yE7S",
        "outputId": "13ea5739-e232-4160-bdde-63c9bed4d480"
      },
      "source": [
        "n = int(input())\r\n",
        "b=0\r\n",
        "for i in range(0, 3):\r\n",
        "  a=n%10\r\n",
        "  n=int(n/10)\r\n",
        "  b=b*10+a\r\n",
        "a=b%10\r\n",
        "if a==1:\r\n",
        "  print(\"One hundred\", end =\" \")\r\n",
        "elif a==2:\r\n",
        "  print(\"Two hundred\", end =\" \")\r\n",
        "elif a==3:\r\n",
        "  print(\"Three hundred\", end =\" \")\r\n",
        "elif a==4:\r\n",
        "  print(\"Four hundred\", end =\" \")\r\n",
        "elif a==5:\r\n",
        "  print(\"Five hundred\", end =\" \")\r\n",
        "elif a==6:\r\n",
        "  print(\"Six hundred\", end =\" \")\r\n",
        "elif a==7:\r\n",
        "  print(\"Seven hundred\", end =\" \")\r\n",
        "elif a==8:\r\n",
        "  print(\"Eight hundred\", end =\" \")\r\n",
        "elif a==9:\r\n",
        "  print(\"Nine hundred\", end =\" \")\r\n",
        "b=int(b/10)\r\n",
        "a=b%10\r\n",
        "if a==1:\r\n",
        "  b=int(b/10)\r\n",
        "  a=b%10\r\n",
        "  if a==0:\r\n",
        "    print(\"ten\", end =\" \")\r\n",
        "  elif a==2:\r\n",
        "    print(\"twelve\", end =\" \")\r\n",
        "  elif a==3:\r\n",
        "    print(\"thirteen\", end =\" \")\r\n",
        "  elif a==4:\r\n",
        "    print(\"fourteen\", end =\" \")\r\n",
        "  elif a==5:\r\n",
        "    print(\"fifteen\", end =\" \")\r\n",
        "  elif a==6:\r\n",
        "    print(\"sixteen\", end =\" \")\r\n",
        "  elif a==7:\r\n",
        "    print(\"seventeen\", end =\" \")\r\n",
        "  elif a==8:\r\n",
        "    print(\"eighteen\", end =\" \")\r\n",
        "  elif a==9:\r\n",
        "    print(\"nineteen\", end =\" \")\r\n",
        "else:\r\n",
        "  if a==0:\r\n",
        "    print(\"and\", end =\" \")\r\n",
        "  elif a==2:\r\n",
        "    print(\"twenty\", end =\" \")\r\n",
        "  elif a==3:\r\n",
        "    print(\"thirty\", end =\" \")\r\n",
        "  elif a==4:\r\n",
        "    print(\"fourty\", end =\" \")\r\n",
        "  elif a==5:\r\n",
        "    print(\"fifty\", end =\" \")\r\n",
        "  elif a==6:\r\n",
        "    print(\"sixty\", end =\" \")\r\n",
        "  elif a==7:\r\n",
        "    print(\"seventy\", end =\" \")\r\n",
        "  elif a==8:\r\n",
        "    print(\"eighty\", end =\" \")\r\n",
        "  elif a==9:\r\n",
        "    print(\"ninety\", end =\" \")\r\n",
        "b=int(b/10)\r\n",
        "a=b%10\r\n",
        "if a==1:\r\n",
        "  print(\"one \", end =\" \")\r\n",
        "elif a==2:\r\n",
        "  print(\"two \", end =\" \")\r\n",
        "elif a==3:\r\n",
        "  print(\"three \", end =\" \")\r\n",
        "elif a==4:\r\n",
        "  print(\"four \", end =\" \")\r\n",
        "elif a==5:\r\n",
        "  print(\"five \", end =\" \")\r\n",
        "elif a==6:\r\n",
        "  print(\"six \", end =\" \")\r\n",
        "elif a==7:\r\n",
        "  print(\"seven \", end =\" \")\r\n",
        "elif a==8:\r\n",
        "  print(\"eight \", end =\" \")\r\n",
        "elif a==9:\r\n",
        "  print(\"nine \", end =\" \")"
      ],
      "execution_count": null,
      "outputs": [
        {
          "output_type": "stream",
          "text": [
            "604\n",
            "Six hundred and four  "
          ],
          "name": "stdout"
        }
      ]
    },
    {
      "cell_type": "markdown",
      "metadata": {
        "id": "ZfgJUQ4H5Qmt"
      },
      "source": [
        "# Ex10"
      ]
    },
    {
      "cell_type": "code",
      "metadata": {
        "colab": {
          "base_uri": "https://localhost:8080/"
        },
        "id": "ZlEMSp2g5Szi",
        "outputId": "73b2da15-5f94-41cc-c940-7b05894a0252"
      },
      "source": [
        "str = input()\r\n",
        "\r\n",
        "c = 0\r\n",
        "for i in str:\r\n",
        "      c = c+1\r\n",
        "print(\"Length of the input string is:\", c)\r\n",
        "print(str.upper())\r\n",
        "print(str.lower())\r\n",
        "print(str[1])\r\n",
        "str1 = str[0:2]\r\n",
        "str2 = \"IN\"\r\n",
        "str3 = str[2:10]\r\n",
        "str4 = str1 + str2 + str3\r\n",
        "print(str4)\r\n",
        "if \"s\" in str:\r\n",
        "    print(\"The string contains s\")\r\n",
        "else:\r\n",
        "    print(\"No\")\r\n"
      ],
      "execution_count": 2,
      "outputs": [
        {
          "output_type": "stream",
          "text": [
            "guagefIGUH\n",
            "Length of the input string is: 10\n",
            "GUAGEFIGUH\n",
            "guagefiguh\n",
            "u\n",
            "guINagefIGUH\n",
            "No\n"
          ],
          "name": "stdout"
        }
      ]
    }
  ]
}